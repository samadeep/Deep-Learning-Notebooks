{
 "cells": [
  {
   "cell_type": "markdown",
   "id": "56c813cb",
   "metadata": {},
   "source": [
    "### Multi-Class Classification Problem for demonstrating the effect of Greedy Layerwise Pretraining\n",
    "\n",
    "\n",
    "- The problem will be <b> configured with two input variables </b> (to represent the x and y coordinates of the points) and a standard deviation of 2.0 for points within each group. We will use the same random state (seed for the pseudorandom number generator) to ensure that we always get the same data points.\n",
    "\n",
    "\n",
    "\n"
   ]
  },
  {
   "cell_type": "code",
   "execution_count": 47,
   "id": "33200274",
   "metadata": {},
   "outputs": [
    {
     "data": {
      "image/png": "[encoded data removed]",
      "text/plain": [
       "<Figure size 432x288 with 1 Axes>"
      ]
     },
     "metadata": {
      "needs_background": "light"
     },
     "output_type": "display_data"
    }
   ],
   "source": [
    "# scatter plot of blobs dataset\n",
    "from sklearn.datasets import make_blobs\n",
    "from matplotlib import pyplot\n",
    "from numpy import where\n",
    "\n",
    "# generate 2d classification dataset\n",
    "X, y = make_blobs(n_samples=1000, centers=3, n_features=2, cluster_std=2, random_state=2)\n",
    "\n",
    "# scatter plot for each class value\n",
    "for class_value in range(3):\n",
    " # select indices of points with the class label\n",
    " row_ix = where(y == class_value)\n",
    " # scatter plot for points with a different color\n",
    " pyplot.scatter(X[row_ix, 0], X[row_ix, 1])\n",
    "# show plot\n",
    "pyplot.show()"
   ]
  },
  {
   "cell_type": "markdown",
   "id": "c49f46d9",
   "metadata": {},
   "source": [
    "#### Supervised Greedy Layer-Wise Pretraining\n",
    "\n",
    "Use greedy layer-wise supervised learning to build up a deep Multilayer Perceptron (MLP) model for the blobs supervised learning multi-class classification problem.\n",
    "\n",
    "Pretraining is not required to address this simple predictive modeling problem. Instead, this is a demonstration of how to perform supervised greedy layer-wise pretraining that can be used as a template for larger and more challenging supervised learning problems.\n",
    "\n",
    "As a first step, we can develop a function to create 1,000 samples from the problem and split them evenly into train and test datasets. The prepare_data() function below implements this and returns the train and test sets in terms of the input and output components."
   ]
  },
  {
   "cell_type": "code",
   "execution_count": 10,
   "id": "05422111",
   "metadata": {},
   "outputs": [],
   "source": [
    "from keras.models import Sequential\n",
    "from keras.layers import Dense, Dropout, Activation\n",
    "from keras.optimizers import SGD\n",
    "from keras.utils import to_categorical\n",
    "\n",
    "\n",
    "# prepare the dataset\n",
    "def prepare_data():\n",
    "    # generate 2d classification dataset\n",
    "    X, y = make_blobs(n_samples=1000, centers=3, n_features=2, cluster_std=2, random_state=2)\n",
    " \n",
    "    # one hot encode output variable\n",
    "    y = to_categorical(y)\n",
    "    \n",
    "     # split into train and test\n",
    "    n_train = 500\n",
    "    trainX, testX = X[:n_train, :], X[n_train:, :]\n",
    "    trainy, testy = y[:n_train], y[n_train:]\n",
    "    return trainX, testX, trainy, testy\n",
    "\n",
    "trainX, testX, trainy, testy = prepare_data()"
   ]
  },
  {
   "cell_type": "code",
   "execution_count": 12,
   "id": "bb549c8f",
   "metadata": {},
   "outputs": [
    {
     "name": "stdout",
     "output_type": "stream",
     "text": [
      "Metal device set to: Apple M1 Pro\n"
     ]
    },
    {
     "name": "stderr",
     "output_type": "stream",
     "text": [
      "2023-07-11 11:08:43.795304: I tensorflow/core/common_runtime/pluggable_device/pluggable_device_factory.cc:306] Could not identify NUMA node of platform GPU ID 0, defaulting to 0. Your kernel may not have been built with NUMA support.\n",
      "2023-07-11 11:08:43.795395: I tensorflow/core/common_runtime/pluggable_device/pluggable_device_factory.cc:272] Created TensorFlow device (/job:localhost/replica:0/task:0/device:GPU:0 with 0 MB memory) -> physical PluggableDevice (device: 0, name: METAL, pci bus id: <undefined>)\n"
     ]
    }
   ],
   "source": [
    "# define model\n",
    "model = Sequential()\n",
    "model.add(Dense(10, input_dim=2, activation='relu', kernel_initializer='he_uniform'))\n",
    "model.add(Dense(3, activation='softmax'))"
   ]
  },
  {
   "cell_type": "code",
   "execution_count": 40,
   "id": "a8bd623a",
   "metadata": {},
   "outputs": [
    {
     "name": "stdout",
     "output_type": "stream",
     "text": [
      "Model: \"sequential_1\"\n",
      "_________________________________________________________________\n",
      " Layer (type)                Output Shape              Param #   \n",
      "=================================================================\n",
      " dense_2 (Dense)             (None, 10)                30        \n",
      "                                                                 \n",
      " dense_4 (Dense)             (None, 10)                110       \n",
      "                                                                 \n",
      " dense_5 (Dense)             (None, 10)                110       \n",
      "                                                                 \n",
      " dense_6 (Dense)             (None, 10)                110       \n",
      "                                                                 \n",
      " dense_7 (Dense)             (None, 10)                110       \n",
      "                                                                 \n",
      " dense_8 (Dense)             (None, 10)                110       \n",
      "                                                                 \n",
      " dense_9 (Dense)             (None, 10)                110       \n",
      "                                                                 \n",
      " dense_10 (Dense)            (None, 10)                110       \n",
      "                                                                 \n",
      " dense_11 (Dense)            (None, 10)                110       \n",
      "                                                                 \n",
      " dense_12 (Dense)            (None, 10)                110       \n",
      "                                                                 \n",
      " dense_13 (Dense)            (None, 10)                110       \n",
      "                                                                 \n",
      " dense_14 (Dense)            (None, 10)                110       \n",
      "                                                                 \n",
      " dense_3 (Dense)             (None, 3)                 33        \n",
      "                                                                 \n",
      "=================================================================\n",
      "Total params: 1,273\n",
      "Trainable params: 143\n",
      "Non-trainable params: 1,130\n",
      "_________________________________________________________________\n"
     ]
    }
   ],
   "source": [
    "model.summary()"
   ]
  },
  {
   "cell_type": "code",
   "execution_count": 13,
   "id": "c9e2d836",
   "metadata": {},
   "outputs": [
    {
     "name": "stderr",
     "output_type": "stream",
     "text": [
      "/Library/Frameworks/Python.framework/Versions/3.10/lib/python3.10/site-packages/keras/optimizers/optimizer_v2/gradient_descent.py:114: UserWarning: The `lr` argument is deprecated, use `learning_rate` instead.\n",
      "  super().__init__(name, **kwargs)\n"
     ]
    }
   ],
   "source": [
    "# compile model\n",
    "opt = SGD(lr=0.01, momentum=0.9)\n",
    "model.compile(loss='categorical_crossentropy', optimizer=opt, metrics=['accuracy'])"
   ]
  },
  {
   "cell_type": "code",
   "execution_count": 14,
   "id": "d86907e6",
   "metadata": {},
   "outputs": [
    {
     "name": "stderr",
     "output_type": "stream",
     "text": [
      "2023-07-11 11:09:08.416979: W tensorflow/tsl/platform/profile_utils/cpu_utils.cc:128] Failed to get CPU frequency: 0 Hz\n",
      "2023-07-11 11:09:08.575232: I tensorflow/core/grappler/optimizers/custom_graph_optimizer_registry.cc:114] Plugin optimizer for device_type GPU is enabled.\n"
     ]
    },
    {
     "data": {
      "text/plain": [
       "<keras.callbacks.History at 0x2a63cf0a0>"
      ]
     },
     "execution_count": 14,
     "metadata": {},
     "output_type": "execute_result"
    }
   ],
   "source": [
    "# fit model\n",
    "model.fit(trainX, trainy, epochs=100, verbose=0)"
   ]
  },
  {
   "cell_type": "code",
   "execution_count": 15,
   "id": "6da5202a",
   "metadata": {},
   "outputs": [],
   "source": [
    "# define and fit the base model\n",
    "def get_base_model(trainX, trainy):\n",
    " # define model\n",
    " model = Sequential()\n",
    " model.add(Dense(10, input_dim=2, activation='relu', kernel_initializer='he_uniform'))\n",
    " model.add(Dense(3, activation='softmax'))\n",
    " # compile model\n",
    " opt = SGD(lr=0.01, momentum=0.9)\n",
    " model.compile(loss='categorical_crossentropy', optimizer=opt, metrics=['accuracy'])\n",
    " # fit model\n",
    " model.fit(trainX, trainy, epochs=100, verbose=0)\n",
    " return model"
   ]
  },
  {
   "cell_type": "code",
   "execution_count": 16,
   "id": "2b49b598",
   "metadata": {},
   "outputs": [
    {
     "name": "stderr",
     "output_type": "stream",
     "text": [
      "2023-07-11 11:09:31.984695: I tensorflow/core/grappler/optimizers/custom_graph_optimizer_registry.cc:114] Plugin optimizer for device_type GPU is enabled.\n"
     ]
    }
   ],
   "source": [
    "# get the base model\n",
    "model = get_base_model(trainX, trainy)"
   ]
  },
  {
   "cell_type": "code",
   "execution_count": 17,
   "id": "4e396b69",
   "metadata": {},
   "outputs": [],
   "source": [
    "# evaluate a fit model\n",
    "def evaluate_model(model, trainX, testX, trainy, testy):\n",
    "\t_, train_acc = model.evaluate(trainX, trainy, verbose=0)\n",
    "\t_, test_acc = model.evaluate(testX, testy, verbose=0)\n",
    "\treturn train_acc, test_acc"
   ]
  },
  {
   "cell_type": "code",
   "execution_count": 18,
   "id": "a81799da",
   "metadata": {},
   "outputs": [
    {
     "name": "stderr",
     "output_type": "stream",
     "text": [
      "2023-07-11 11:09:54.888481: I tensorflow/core/grappler/optimizers/custom_graph_optimizer_registry.cc:114] Plugin optimizer for device_type GPU is enabled.\n"
     ]
    },
    {
     "name": "stdout",
     "output_type": "stream",
     "text": [
      "> layers=2, train=0.816, test=0.826\n"
     ]
    }
   ],
   "source": [
    "# evaluate the base model\n",
    "scores = dict()\n",
    "train_acc, test_acc = evaluate_model(model, trainX, testX, trainy, testy)\n",
    "print('> layers=%d, train=%.3f, test=%.3f' % (len(model.layers), train_acc, test_acc))"
   ]
  },
  {
   "cell_type": "code",
   "execution_count": 19,
   "id": "0facc68f",
   "metadata": {},
   "outputs": [],
   "source": [
    "# remember the current output layer\n",
    "output_layer = model.layers[-1]"
   ]
  },
  {
   "cell_type": "code",
   "execution_count": 20,
   "id": "d1bcde8a",
   "metadata": {},
   "outputs": [],
   "source": [
    "# remove the output layer\n",
    "model.pop()"
   ]
  },
  {
   "cell_type": "code",
   "execution_count": 21,
   "id": "e8cf96ec",
   "metadata": {},
   "outputs": [],
   "source": [
    "# mark all remaining layers as non-trainable\n",
    "for layer in model.layers:\n",
    "\tlayer.trainable = False"
   ]
  },
  {
   "cell_type": "code",
   "execution_count": 22,
   "id": "2660e71c",
   "metadata": {},
   "outputs": [],
   "source": [
    "# add a new hidden layer\n",
    "model.add(Dense(10, activation='relu', kernel_initializer='he_uniform'))"
   ]
  },
  {
   "cell_type": "code",
   "execution_count": 23,
   "id": "aa236ff6",
   "metadata": {},
   "outputs": [
    {
     "data": {
      "text/plain": [
       "<keras.callbacks.History at 0x2ab400e80>"
      ]
     },
     "execution_count": 23,
     "metadata": {},
     "output_type": "execute_result"
    }
   ],
   "source": [
    "# re-add the output layer\n",
    "model.add(output_layer)\n",
    "# fit model\n",
    "model.fit(trainX, trainy, epochs=100, verbose=0)"
   ]
  },
  {
   "cell_type": "code",
   "execution_count": 24,
   "id": "59ef7370",
   "metadata": {},
   "outputs": [],
   "source": [
    "# add one new layer and re-train only the new layer\n",
    "def add_layer(model, trainX, trainy):\n",
    "\t# remember the current output layer\n",
    "\toutput_layer = model.layers[-1]\n",
    "\t# remove the output layer\n",
    "\tmodel.pop()\n",
    "\t# mark all remaining layers as non-trainable\n",
    "\tfor layer in model.layers:\n",
    "\t\tlayer.trainable = False\n",
    "\t# add a new hidden layer\n",
    "\tmodel.add(Dense(10, activation='relu', kernel_initializer='he_uniform'))\n",
    "\t# re-add the output layer\n",
    "\tmodel.add(output_layer)\n",
    "\t# fit model\n",
    "\tmodel.fit(trainX, trainy, epochs=100, verbose=0)"
   ]
  },
  {
   "cell_type": "code",
   "execution_count": 25,
   "id": "dcbecd78",
   "metadata": {},
   "outputs": [
    {
     "name": "stdout",
     "output_type": "stream",
     "text": [
      "> layers=4, train=0.818, test=0.826\n",
      "> layers=5, train=0.822, test=0.820\n",
      "> layers=6, train=0.822, test=0.820\n",
      "> layers=7, train=0.828, test=0.818\n",
      "> layers=8, train=0.828, test=0.820\n",
      "> layers=9, train=0.828, test=0.810\n",
      "> layers=10, train=0.826, test=0.820\n",
      "> layers=11, train=0.834, test=0.818\n",
      "> layers=12, train=0.832, test=0.820\n",
      "> layers=13, train=0.836, test=0.820\n"
     ]
    }
   ],
   "source": [
    "# add layers and evaluate the updated model\n",
    "n_layers = 10\n",
    "for i in range(n_layers):\n",
    "\t# add layer\n",
    "\tadd_layer(model, trainX, trainy)\n",
    "\t# evaluate model\n",
    "\ttrain_acc, test_acc = evaluate_model(model, trainX, testX, trainy, testy)\n",
    "\tprint('> layers=%d, train=%.3f, test=%.3f' % (len(model.layers), train_acc, test_acc))\n",
    "\t# store scores for plotting\n",
    "\tscores[len(model.layers)] = (train_acc, test_acc)"
   ]
  },
  {
   "cell_type": "code",
   "execution_count": 26,
   "id": "7f26ea1e",
   "metadata": {},
   "outputs": [
    {
     "data": {
      "image/png": "[encoded data removed]",
      "text/plain": [
       "<Figure size 432x288 with 1 Axes>"
      ]
     },
     "metadata": {
      "needs_background": "light"
     },
     "output_type": "display_data"
    }
   ],
   "source": [
    "# plot number of added layers vs accuracy\n",
    "pyplot.plot(list(scores.keys()), [scores[k][0] for k in scores.keys()], label='train', marker='.')\n",
    "pyplot.plot(list(scores.keys()), [scores[k][1] for k in scores.keys()], label='test', marker='.')\n",
    "pyplot.legend()\n",
    "pyplot.show()"
   ]
  },
  {
   "cell_type": "code",
   "execution_count": null,
   "id": "1aebf07d",
   "metadata": {},
   "outputs": [],
   "source": []
  }
 ],
 "metadata": {
  "kernelspec": {
   "display_name": "Python 3 (ipykernel)",
   "language": "python",
   "name": "python3"
  },
  "language_info": {
   "codemirror_mode": {
    "name": "ipython",
    "version": 3
   },
   "file_extension": ".py",
   "mimetype": "text/x-python",
   "name": "python",
   "nbconvert_exporter": "python",
   "pygments_lexer": "ipython3",
   "version": "3.10.5"
  }
 },
 "nbformat": 4,
 "nbformat_minor": 5
}
